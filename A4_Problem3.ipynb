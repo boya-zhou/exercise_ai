{
 "cells": [
  {
   "cell_type": "code",
   "execution_count": 127,
   "metadata": {
    "collapsed": true
   },
   "outputs": [],
   "source": [
    "from sklearn.datasets import load_digits\n",
    "import pandas as pd\n",
    "import numpy as np\n",
    "from sklearn.metrics import confusion_matrix\n",
    "from sklearn import metrics"
   ]
  },
  {
   "cell_type": "code",
   "execution_count": 13,
   "metadata": {
    "collapsed": false
   },
   "outputs": [],
   "source": [
    "digits = load_digits()\n",
    "train_x = digits['data']\n",
    "train_y = digits['target']"
   ]
  },
  {
   "cell_type": "markdown",
   "metadata": {},
   "source": [
    "### k-means clustering implemented in problem1"
   ]
  },
  {
   "cell_type": "markdown",
   "metadata": {},
   "source": [
    "- I need to change part of my code in problem1 so it can fit 64 demensional data\n",
    "- still use eulucidian as poximity measure, though it may cause problem"
   ]
  },
  {
   "cell_type": "code",
   "execution_count": 65,
   "metadata": {
    "collapsed": true
   },
   "outputs": [],
   "source": [
    "class KMeans(object):\n",
    "    \n",
    "    '''\n",
    "        simple kmeans impletation:\n",
    "        n_clusters : number of clusters to find \n",
    "        max_iter : max iter algorithum will run even no converge\n",
    "        tolerance : when change of center less than it, treat this as converge\n",
    "\n",
    "        init : basic config\n",
    "        fit: read and fit training data\n",
    "\n",
    "        input data : the dataset should be a 2d numpy matrix, dataset[:,0] is x, the other is y\n",
    "    '''\n",
    "    \n",
    "    def __init__(self, n_clusters):\n",
    "        \n",
    "        self.n_clusters = n_clusters\n",
    "        #self.max_iter = max_iter\n",
    "        #self.tol = tol\n",
    "    \n",
    "    def fit(self, dataset):\n",
    "        \n",
    "        # random choose center based on n_clusters\n",
    "        self.centers = dataset[np.random.choice(dataset.shape[0]\n",
    "                                               ,self.n_clusters,replace = False),:]\n",
    "        self.dataset = dataset\n",
    "        self.dem = dataset.shape[1]\n",
    "        old_centers = np.copy(self.centers)\n",
    "        self.update_leader()\n",
    "        \n",
    "        while old_centers.all() != self.centers.all():\n",
    "            self.update_leader()\n",
    "        \n",
    "        print \"finish\"\n",
    "            \n",
    "\n",
    "    # find each node should belong to which cluster    \n",
    "    def update_leader(self):\n",
    "        \n",
    "        # update the leader and store them in dataset last col\n",
    "        new_leaders = np.apply_along_axis(self.find_leader, 1, self.dataset)\n",
    "        if self.dataset.shape[1] == self.dem:\n",
    "            new_leaders = np.expand_dims(new_leaders, axis=1)\n",
    "            self.dataset = np.hstack((self.dataset, new_leaders))\n",
    "        else:\n",
    "            self.dataset = np.insert(self.dataset, self.dem + 1 , new_leaders ,axis =1)\n",
    "        \n",
    "        # find new center: use simple mean as new center\n",
    "        for center in range(len(self.centers)):\n",
    "            for cenetr_dem in range(self.dem):\n",
    "                single_center = []\n",
    "                single_center.append(np.mean(self.dataset[self.dataset[:,cenetr_dem + 1] == center,cenetr_dem]))\n",
    "            self.centers[center] = single_center\n",
    "            \n",
    "            \n",
    "    # the center number begin from 0    \n",
    "    def find_leader(self, node):\n",
    "        leader = float('NaN')\n",
    "        min_dis = float('Inf')\n",
    "        \n",
    "        '''\n",
    "            This dict store each demional of the cluster \n",
    "        '''\n",
    "        center_dems = {}\n",
    "        for center_dem in range(self.dem):\n",
    "            center_dems[center_dem] = self.centers[:,center_dem]\n",
    "         \n",
    "        eu_dis = 0\n",
    "        \n",
    "        for i in range(self.n_clusters) :\n",
    "            for center_dem in range(self.dem):\n",
    "                eu_dis += np.square(node[center_dem] - center_dems[center_dem][i])\n",
    "            \n",
    "            eu_dis = np.sqrt(eu_dis)\n",
    "            if eu_dis < min_dis :\n",
    "                min_dis = eu_dis\n",
    "                leader = i\n",
    "                \n",
    "        return np.int16(leader)\n",
    "    \n",
    "    def get_data(self):\n",
    "        return self.dataset\n",
    "    \n",
    "    def get_center_num(self):\n",
    "        return len(self.center)"
   ]
  },
  {
   "cell_type": "code",
   "execution_count": 152,
   "metadata": {
    "collapsed": false
   },
   "outputs": [
    {
     "name": "stdout",
     "output_type": "stream",
     "text": [
      "finish\n"
     ]
    }
   ],
   "source": [
    "kmeans = KMeans(n_clusters = 10)\n",
    "kmeans.fit(train_x)"
   ]
  },
  {
   "cell_type": "markdown",
   "metadata": {},
   "source": [
    "#### Kmeans: do majority vote"
   ]
  },
  {
   "cell_type": "code",
   "execution_count": 153,
   "metadata": {
    "collapsed": true
   },
   "outputs": [],
   "source": [
    "def trans_cluster(pre_cluster,true_y):\n",
    "    vote_df = pd.DataFrame(pre_cluster, columns = ['pre_cluster'])\n",
    "    vote_df['true_cluster'] = true_y\n",
    "    vote_df['trans_cluster'] = 0\n",
    "    \n",
    "    for c_name in range(10):\n",
    "        c_name_group = vote_df.loc[vote_df['pre_cluster'] == c_name]\n",
    "        trans_name = c_name_group['true_cluster'].value_counts().idxmax(axis = 0)\n",
    "        vote_df.loc[vote_df['pre_cluster'] == c_name,'trans_cluster'] = int(trans_name)\n",
    "        \n",
    "    return vote_df"
   ]
  },
  {
   "cell_type": "code",
   "execution_count": 154,
   "metadata": {
    "collapsed": false
   },
   "outputs": [
    {
     "data": {
      "text/html": [
       "<div>\n",
       "<table border=\"1\" class=\"dataframe\">\n",
       "  <thead>\n",
       "    <tr style=\"text-align: right;\">\n",
       "      <th></th>\n",
       "      <th>pre_cluster</th>\n",
       "      <th>true_cluster</th>\n",
       "      <th>trans_cluster</th>\n",
       "    </tr>\n",
       "  </thead>\n",
       "  <tbody>\n",
       "    <tr>\n",
       "      <th>0</th>\n",
       "      <td>7.0</td>\n",
       "      <td>0</td>\n",
       "      <td>0</td>\n",
       "    </tr>\n",
       "    <tr>\n",
       "      <th>1</th>\n",
       "      <td>2.0</td>\n",
       "      <td>1</td>\n",
       "      <td>1</td>\n",
       "    </tr>\n",
       "    <tr>\n",
       "      <th>2</th>\n",
       "      <td>3.0</td>\n",
       "      <td>2</td>\n",
       "      <td>8</td>\n",
       "    </tr>\n",
       "    <tr>\n",
       "      <th>3</th>\n",
       "      <td>1.0</td>\n",
       "      <td>3</td>\n",
       "      <td>3</td>\n",
       "    </tr>\n",
       "    <tr>\n",
       "      <th>4</th>\n",
       "      <td>4.0</td>\n",
       "      <td>4</td>\n",
       "      <td>4</td>\n",
       "    </tr>\n",
       "  </tbody>\n",
       "</table>\n",
       "</div>"
      ],
      "text/plain": [
       "   pre_cluster  true_cluster  trans_cluster\n",
       "0          7.0             0              0\n",
       "1          2.0             1              1\n",
       "2          3.0             2              8\n",
       "3          1.0             3              3\n",
       "4          4.0             4              4"
      ]
     },
     "execution_count": 154,
     "metadata": {},
     "output_type": "execute_result"
    }
   ],
   "source": [
    "kmeans_vote = trans_cluster(kmeans.get_data()[:,-1],train_y)\n",
    "kmeans_vote.head()"
   ]
  },
  {
   "cell_type": "markdown",
   "metadata": {},
   "source": [
    "#### kmeans: confusion matrix"
   ]
  },
  {
   "cell_type": "code",
   "execution_count": 155,
   "metadata": {
    "collapsed": false
   },
   "outputs": [
    {
     "data": {
      "text/plain": [
       "array([[171,   1,   0,   0,   1,   0,   0,   0,   5,   0],\n",
       "       [  0,  56,   0,   0,  56,   0,   0,  10,  60,   0],\n",
       "       [ 11,  16,  79,   4,   0,   1,   0,  54,  12,   0],\n",
       "       [  2,  12,  47, 106,   0,   2,   0,   4,  10,   0],\n",
       "       [  1,   0,   0,   0, 145,   0,   0,  24,  11,   0],\n",
       "       [  0,  19,   2,   0,  25, 114,   0,  19,   3,   0],\n",
       "       [  9,   0,   0,   0, 101,   7,   0,   0,  64,   0],\n",
       "       [  0,  20,   1,   0,   1,   0,   0, 153,   4,   0],\n",
       "       [  0,  43,   2,   2,   0,   7,   0,   7, 113,   0],\n",
       "       [ 12,  29,  48,  37,   0,  32,   0,   7,  15,   0]])"
      ]
     },
     "execution_count": 155,
     "metadata": {},
     "output_type": "execute_result"
    }
   ],
   "source": [
    "confusion_matrix(kmeans_vote['true_cluster'],kmeans_vote['trans_cluster'])"
   ]
  },
  {
   "cell_type": "markdown",
   "metadata": {},
   "source": [
    "#### kmeans: Fowlkes and Mallows index evaluation"
   ]
  },
  {
   "cell_type": "code",
   "execution_count": 156,
   "metadata": {
    "collapsed": false
   },
   "outputs": [
    {
     "data": {
      "text/plain": [
       "0.41765609242192703"
      ]
     },
     "execution_count": 156,
     "metadata": {},
     "output_type": "execute_result"
    }
   ],
   "source": [
    "metrics.fowlkes_mallows_score(kmeans_vote['true_cluster'],kmeans_vote['trans_cluster'])"
   ]
  },
  {
   "cell_type": "markdown",
   "metadata": {},
   "source": [
    "### Agglomerative clustering with Ward linkage"
   ]
  },
  {
   "cell_type": "code",
   "execution_count": 129,
   "metadata": {
    "collapsed": true
   },
   "outputs": [],
   "source": [
    "from sklearn.cluster import AgglomerativeClustering"
   ]
  },
  {
   "cell_type": "code",
   "execution_count": 146,
   "metadata": {
    "collapsed": false
   },
   "outputs": [],
   "source": [
    "agg_cluster = AgglomerativeClustering(linkage='ward',\n",
    "                                affinity= \"euclidean\",\n",
    "                                n_clusters= 10)\n",
    "precluster = agg_cluster.fit_predict(train_x)"
   ]
  },
  {
   "cell_type": "markdown",
   "metadata": {},
   "source": [
    "#### Agglomerative clustering : majority vote"
   ]
  },
  {
   "cell_type": "code",
   "execution_count": 149,
   "metadata": {
    "collapsed": false
   },
   "outputs": [
    {
     "data": {
      "text/html": [
       "<div>\n",
       "<table border=\"1\" class=\"dataframe\">\n",
       "  <thead>\n",
       "    <tr style=\"text-align: right;\">\n",
       "      <th></th>\n",
       "      <th>pre_cluster</th>\n",
       "      <th>true_cluster</th>\n",
       "      <th>trans_cluster</th>\n",
       "    </tr>\n",
       "  </thead>\n",
       "  <tbody>\n",
       "    <tr>\n",
       "      <th>0</th>\n",
       "      <td>7</td>\n",
       "      <td>0</td>\n",
       "      <td>0</td>\n",
       "    </tr>\n",
       "    <tr>\n",
       "      <th>1</th>\n",
       "      <td>9</td>\n",
       "      <td>1</td>\n",
       "      <td>1</td>\n",
       "    </tr>\n",
       "    <tr>\n",
       "      <th>2</th>\n",
       "      <td>4</td>\n",
       "      <td>2</td>\n",
       "      <td>8</td>\n",
       "    </tr>\n",
       "    <tr>\n",
       "      <th>3</th>\n",
       "      <td>1</td>\n",
       "      <td>3</td>\n",
       "      <td>3</td>\n",
       "    </tr>\n",
       "    <tr>\n",
       "      <th>4</th>\n",
       "      <td>5</td>\n",
       "      <td>4</td>\n",
       "      <td>4</td>\n",
       "    </tr>\n",
       "  </tbody>\n",
       "</table>\n",
       "</div>"
      ],
      "text/plain": [
       "   pre_cluster  true_cluster  trans_cluster\n",
       "0            7             0              0\n",
       "1            9             1              1\n",
       "2            4             2              8\n",
       "3            1             3              3\n",
       "4            5             4              4"
      ]
     },
     "execution_count": 149,
     "metadata": {},
     "output_type": "execute_result"
    }
   ],
   "source": [
    "agg_vote_df = trans_cluster(precluster,train_y)\n",
    "agg_vote_df.head()"
   ]
  },
  {
   "cell_type": "markdown",
   "metadata": {},
   "source": [
    "#### Agglomerative clustering : confusion matrix"
   ]
  },
  {
   "cell_type": "code",
   "execution_count": 157,
   "metadata": {
    "collapsed": false
   },
   "outputs": [
    {
     "data": {
      "text/plain": [
       "array([[178,   0,   0,   0,   0,   0,   0,   0,   0,   0],\n",
       "       [  0, 155,  27,   0,   0,   0,   0,   0,   0,   0],\n",
       "       [  0,   0, 166,   0,   0,   0,   0,   1,  10,   0],\n",
       "       [  0,   0,   0, 169,   0,   0,   0,   1,  13,   0],\n",
       "       [  0,   0,   0,   0, 178,   0,   0,   3,   0,   0],\n",
       "       [  0,   0,   0,   2,   0, 179,   1,   0,   0,   0],\n",
       "       [  0,   0,   0,   0,   0,   0, 180,   0,   1,   0],\n",
       "       [  0,   0,   0,   0,   0,   0,   0, 179,   0,   0],\n",
       "       [  0,   3,   4,   1,   0,   0,   0,   1, 165,   0],\n",
       "       [  0,  20,   0, 145,   0,   2,   0,  11,   2,   0]])"
      ]
     },
     "execution_count": 157,
     "metadata": {},
     "output_type": "execute_result"
    }
   ],
   "source": [
    "confusion_matrix(agg_vote_df['true_cluster'],agg_vote_df['trans_cluster'])"
   ]
  },
  {
   "cell_type": "markdown",
   "metadata": {},
   "source": [
    "#### Agglomerative clustering : Fowlkes and Mallows index evaluation"
   ]
  },
  {
   "cell_type": "code",
   "execution_count": 158,
   "metadata": {
    "collapsed": false
   },
   "outputs": [
    {
     "data": {
      "text/plain": [
       "0.83213950467054931"
      ]
     },
     "execution_count": 158,
     "metadata": {},
     "output_type": "execute_result"
    }
   ],
   "source": [
    "metrics.fowlkes_mallows_score(agg_vote_df['true_cluster'],agg_vote_df['trans_cluster'])"
   ]
  },
  {
   "cell_type": "markdown",
   "metadata": {},
   "source": [
    "### AffinityPropagation"
   ]
  },
  {
   "cell_type": "code",
   "execution_count": 159,
   "metadata": {
    "collapsed": true
   },
   "outputs": [],
   "source": [
    "from sklearn.cluster import AffinityPropagation"
   ]
  },
  {
   "cell_type": "code",
   "execution_count": 184,
   "metadata": {
    "collapsed": false
   },
   "outputs": [],
   "source": [
    "af = AffinityPropagation().fit(train_x)"
   ]
  },
  {
   "cell_type": "markdown",
   "metadata": {},
   "source": [
    "#### AffinityPropagation clustering : majority vote"
   ]
  },
  {
   "cell_type": "code",
   "execution_count": 185,
   "metadata": {
    "collapsed": false
   },
   "outputs": [
    {
     "data": {
      "text/html": [
       "<div>\n",
       "<table border=\"1\" class=\"dataframe\">\n",
       "  <thead>\n",
       "    <tr style=\"text-align: right;\">\n",
       "      <th></th>\n",
       "      <th>pre_cluster</th>\n",
       "      <th>true_cluster</th>\n",
       "      <th>trans_cluster</th>\n",
       "    </tr>\n",
       "  </thead>\n",
       "  <tbody>\n",
       "    <tr>\n",
       "      <th>0</th>\n",
       "      <td>76</td>\n",
       "      <td>0</td>\n",
       "      <td>0</td>\n",
       "    </tr>\n",
       "    <tr>\n",
       "      <th>1</th>\n",
       "      <td>66</td>\n",
       "      <td>1</td>\n",
       "      <td>0</td>\n",
       "    </tr>\n",
       "    <tr>\n",
       "      <th>2</th>\n",
       "      <td>2</td>\n",
       "      <td>2</td>\n",
       "      <td>2</td>\n",
       "    </tr>\n",
       "    <tr>\n",
       "      <th>3</th>\n",
       "      <td>85</td>\n",
       "      <td>3</td>\n",
       "      <td>0</td>\n",
       "    </tr>\n",
       "    <tr>\n",
       "      <th>4</th>\n",
       "      <td>102</td>\n",
       "      <td>4</td>\n",
       "      <td>0</td>\n",
       "    </tr>\n",
       "  </tbody>\n",
       "</table>\n",
       "</div>"
      ],
      "text/plain": [
       "   pre_cluster  true_cluster  trans_cluster\n",
       "0           76             0              0\n",
       "1           66             1              0\n",
       "2            2             2              2\n",
       "3           85             3              0\n",
       "4          102             4              0"
      ]
     },
     "execution_count": 185,
     "metadata": {},
     "output_type": "execute_result"
    }
   ],
   "source": [
    "affi_vote = trans_cluster(af.labels_,train_y) \n",
    "affi_vote.head()"
   ]
  },
  {
   "cell_type": "markdown",
   "metadata": {},
   "source": [
    "#### AffinityPropagation clustering : confusion matrix"
   ]
  },
  {
   "cell_type": "code",
   "execution_count": 186,
   "metadata": {
    "collapsed": false
   },
   "outputs": [
    {
     "data": {
      "text/plain": [
       "array([[178,   0,   0,   0,   0,   0,   0,   0,   0,   0],\n",
       "       [175,   7,   0,   0,   0,   0,   0,   0,   0,   0],\n",
       "       [167,   0,   9,   1,   0,   0,   0,   0,   0,   0],\n",
       "       [153,   0,   0,  29,   0,   1,   0,   0,   0,   0],\n",
       "       [181,   0,   0,   0,   0,   0,   0,   0,   0,   0],\n",
       "       [154,   0,   0,   0,   0,  28,   0,   0,   0,   0],\n",
       "       [159,   0,   0,   0,   0,   0,  22,   0,   0,   0],\n",
       "       [153,   0,   0,   0,   0,   0,   0,  26,   0,   0],\n",
       "       [174,   0,   0,   0,   0,   0,   0,   0,   0,   0],\n",
       "       [179,   0,   0,   0,   0,   1,   0,   0,   0,   0]])"
      ]
     },
     "execution_count": 186,
     "metadata": {},
     "output_type": "execute_result"
    }
   ],
   "source": [
    "confusion_matrix(affi_vote['true_cluster'],affi_vote['trans_cluster'])"
   ]
  },
  {
   "cell_type": "markdown",
   "metadata": {},
   "source": [
    "#### AffinityPropagation clustering : Fowlkes and Mallows index evaluation"
   ]
  },
  {
   "cell_type": "code",
   "execution_count": 187,
   "metadata": {
    "collapsed": false
   },
   "outputs": [
    {
     "data": {
      "text/plain": [
       "0.29757530338611876"
      ]
     },
     "execution_count": 187,
     "metadata": {},
     "output_type": "execute_result"
    }
   ],
   "source": [
    "metrics.fowlkes_mallows_score(affi_vote['true_cluster'],affi_vote['trans_cluster'])"
   ]
  },
  {
   "cell_type": "code",
   "execution_count": null,
   "metadata": {
    "collapsed": true
   },
   "outputs": [],
   "source": []
  }
 ],
 "metadata": {
  "kernelspec": {
   "display_name": "Python 2",
   "language": "python",
   "name": "python2"
  },
  "language_info": {
   "codemirror_mode": {
    "name": "ipython",
    "version": 2
   },
   "file_extension": ".py",
   "mimetype": "text/x-python",
   "name": "python",
   "nbconvert_exporter": "python",
   "pygments_lexer": "ipython2",
   "version": "2.7.10"
  }
 },
 "nbformat": 4,
 "nbformat_minor": 1
}
