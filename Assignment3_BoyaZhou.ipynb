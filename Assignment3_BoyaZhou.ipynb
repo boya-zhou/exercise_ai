{
 "cells": [
  {
   "cell_type": "markdown",
   "metadata": {},
   "source": [
    "## Exercise 7.3"
   ]
  },
  {
   "cell_type": "code",
   "execution_count": 36,
   "metadata": {
    "collapsed": false
   },
   "outputs": [],
   "source": [
    "import time\n",
    "import matplotlib.pyplot as plt\n",
    "import random"
   ]
  },
  {
   "cell_type": "code",
   "execution_count": 2,
   "metadata": {
    "collapsed": false
   },
   "outputs": [],
   "source": [
    "# possibility for symbols and operators\n",
    "SYMBOL = ['F','P','Q','X','Y']"
   ]
  },
  {
   "cell_type": "code",
   "execution_count": 3,
   "metadata": {
    "collapsed": true
   },
   "outputs": [],
   "source": [
    "'''\n",
    "for 7.3 (a):\n",
    " reference1 : https://github.com/aimacode/aima-python/blob/master/utils.py\n",
    " reference2 : https://github.com/aimacode/aima-python/blob/master/logic.py\n",
    "'''\n",
    "\n",
    "class PL_expr(object):\n",
    "    \"\"\"A mathematical expression with an operator and 0 or more arguments.\n",
    "    op is a str in OPERTOR; args are Expressions.\n",
    "    Expr('x') or Symbol('x') creates a symbol (a nullary Expr).\n",
    "    Expr('~', x) creates a unary; Expr('&', x, 1) creates a binary.\"\"\"\n",
    "    def __init__(self, op, *args):\n",
    "        self.op = str(op)\n",
    "        self.args = args\n",
    "        \n",
    "    # Operator overloads\n",
    "    def __invert__(self):   return PL_expr('~', self)\n",
    "    \n",
    "    def __and__(self, rhs): return PL_expr('&', self, rhs)\n",
    "    def __rand__(self, lhs): return PL_expr('&',  lhs, self)\n",
    "    \n",
    "    def __or__(self, rhs):\n",
    "        \"Allow both P | Q, and P |'==>'| Q.\"\n",
    "        if isinstance(rhs, PL_expr):\n",
    "            return PL_expr('|', self, rhs)\n",
    "        else:\n",
    "            return PartialExpr(rhs, self)\n",
    "    \n",
    "    def __ror__(self, lhs):  return PL_expr('|',  lhs, self)\n",
    "    \n",
    "    def __repr__(self):\n",
    "        op = self.op\n",
    "        args = [str(arg) for arg in self.args]\n",
    "        if op is not None:       # f(x) or f(x, y)\n",
    "            return '{}({})'.format(op, ', '.join(args)) if args else op\n",
    "        elif len(args) == 1:        # -x or -(x + 1)\n",
    "            return op + args[0]\n",
    "        else:                       # (x - y)\n",
    "            opp = (' ' + op + ' ')\n",
    "            return '(' + opp.join(args) + ')'\n",
    "    \n",
    "\n",
    "class PartialExpr:\n",
    "    \"\"\"Given 'P |'==>'| Q, first form PartialExpr('==>', P), then combine with Q.\"\"\"\n",
    "    def __init__(self, op, lhs): self.op, self.lhs = op, lhs\n",
    "    def __or__(self, rhs):       return PL_expr(self.op, self.lhs, rhs)\n",
    "    def __repr__(self):          return \"PartialExpr('{}', {})\".format(self.op, self.lhs)\n",
    "    \n",
    "    \n",
    "\n",
    "infix_ops = '==> <== <=>'.split()\n",
    "\n",
    "\n",
    "def expr_handle_infix_ops(x):\n",
    "    \"\"\"Given a str, return a new str with ==> replaced by |'==>'|, etc.\n",
    "    >>> expr_handle_infix_ops('P ==> Q')\n",
    "    \"P |'==>'| Q\"\n",
    "    \"\"\"\n",
    "    for op in infix_ops:\n",
    "        x = x.replace(op, '|' + repr(op) + '|')\n",
    "    return x    "
   ]
  },
  {
   "cell_type": "code",
   "execution_count": 4,
   "metadata": {
    "collapsed": false
   },
   "outputs": [],
   "source": [
    "def Symbol(name):\n",
    "    \"A Symbol is just an Expr with no args.\"\n",
    "    return PL_expr(name)\n",
    "\n",
    "\n",
    "def symbols(names):\n",
    "    \"Return a tuple of Symbols; names is a comma/whitespace delimited str.\"\n",
    "    return tuple(Symbol(name) for name in names.replace(',', ' ').split())"
   ]
  },
  {
   "cell_type": "code",
   "execution_count": 5,
   "metadata": {
    "collapsed": false
   },
   "outputs": [],
   "source": [
    "def pl_true(exp, model={}):\n",
    "    \"\"\"\n",
    "    Return True if the propositional logic expression is true in the model,\n",
    "    and False if it is false. \n",
    "    The model only give true value for every proposition.\n",
    "    \"\"\"\n",
    "    if exp in [True, False]:\n",
    "        return exp\n",
    "    \n",
    "    op, args = exp.op, exp.args\n",
    "    \n",
    "    \n",
    "    if op in SYMBOL:\n",
    "        return model.get(exp)\n",
    "    elif op == '~':\n",
    "        p = pl_true(args[0], model)\n",
    "        if p is None:\n",
    "            return None\n",
    "        else:\n",
    "            return not p\n",
    "    elif op == '|':\n",
    "        result = False\n",
    "        for arg in args:\n",
    "            p = pl_true(arg, model)\n",
    "            if p is True:\n",
    "                return True\n",
    "            if p is None:\n",
    "                result = None\n",
    "        return result\n",
    "    elif op == '&':\n",
    "        result = True\n",
    "        for arg in args:\n",
    "            p = pl_true(arg, model)\n",
    "            if p is False:\n",
    "                return False\n",
    "            if p is None:\n",
    "                result = None\n",
    "        return result\n",
    "    \n",
    "    p, q = args\n",
    "    \n",
    "    if op == '==>':\n",
    "        return pl_true(~p | q, model)\n",
    "    \n",
    "    pt = pl_true(p, model)\n",
    "    if pt is None:\n",
    "        return None\n",
    "    qt = pl_true(q, model)\n",
    "    if qt is None:\n",
    "        return None\n",
    "    if op == '<=>':\n",
    "        return pt == qt\n",
    "    else:\n",
    "        raise ValueError(\"illegal operator in logic expression\" + str(exp))"
   ]
  },
  {
   "cell_type": "code",
   "execution_count": 6,
   "metadata": {
    "collapsed": false
   },
   "outputs": [],
   "source": [
    "(X, Y, P, Q, F) = symbols('X, Y, P, Q, F')"
   ]
  },
  {
   "cell_type": "code",
   "execution_count": 7,
   "metadata": {
    "collapsed": false
   },
   "outputs": [
    {
     "name": "stdout",
     "output_type": "stream",
     "text": [
      "True\n",
      "True\n",
      "True\n",
      "True\n"
     ]
    }
   ],
   "source": [
    "'''\n",
    "for 7.3 (a):\n",
    "    test algorithm\n",
    "'''\n",
    "exp1 = ~(P & Q)  |'==>'|  (~P | ~Q)\n",
    "exp2 = P | Q\n",
    "exp3 = ~(~P)\n",
    "exp4 = (P | Q) | ~X\n",
    "\n",
    "print pl_true(exp1, model={P:True, Q:True})\n",
    "print pl_true(exp2, model={P:True, Q:True})\n",
    "print pl_true(exp3, model={P:True, Q:True})\n",
    "print pl_true(exp4, model={P:True, Q:True, X:True})"
   ]
  },
  {
   "cell_type": "code",
   "execution_count": 116,
   "metadata": {
    "collapsed": true
   },
   "outputs": [],
   "source": [
    "'''\n",
    "for 7.3 (a):\n",
    "    plot for linearity\n",
    "    random generate length length 0 to 15 sentences, each generate 10000 times\n",
    "    roughly, use random operation 1 time add sentence size 1\n",
    "'''\n",
    "f_invert = lambda single_expr : ~single_expr\n",
    "f_and = lambda exp1, single_expr: exp1 & single_expr\n",
    "f_or = lambda exp1, single_expr: exp1 | single_expr\n",
    "f_imply = lambda exp1, single_expr: exp1 |'==>'| single_expr\n",
    "f_equal = lambda exp1, single_expr: exp1 |'<=>'| single_expr\n",
    "\n",
    "def random_sentence():\n",
    "    list_lengths = [_ for _ in range(1,21)]\n",
    "    aver_time = []\n",
    "    for single_len in list_lengths:\n",
    "        sam_len30 = gen_30el(single_len)\n",
    "        aver_time.append(make_time_list(sam_len30))\n",
    "    return aver_time\n",
    "\n",
    "def gen_30el(length):\n",
    "    sam_len30 = []\n",
    "    for _ in range(10000):\n",
    "        sam_len30.append(random_specific_len_sentence(length))\n",
    "    return sam_len30\n",
    "\n",
    "def random_specific_len_sentence(length):\n",
    "    single_expr = P\n",
    "    if length == 1:\n",
    "        return single_expr\n",
    "    else:\n",
    "        for _ in range(length):\n",
    "            ran_op = random.choice(range(0,5))\n",
    "            if ran_op == 0:\n",
    "                single_expr = f_invert(single_expr)\n",
    "            else:\n",
    "                exp1 = random.choice([X, Y, P, Q, F])\n",
    "                if ran_op ==1:\n",
    "                    single_expr = f_and(exp1,single_expr)\n",
    "                elif ran_op ==2:\n",
    "                    single_expr = f_or(exp1,single_expr)\n",
    "                elif ran_op ==3:\n",
    "                    single_expr = f_imply(exp1,single_expr)\n",
    "                elif ran_op == 4 :\n",
    "                    single_expr = f_equal(exp1,single_expr)\n",
    "\n",
    "    return single_expr\n",
    "\n",
    "def make_time_list(lst):\n",
    "    time_list = []\n",
    "    for el in lst:\n",
    "        (X, Y, P, Q, F) = symbols('X, Y, P, Q, F')\n",
    "        time0 = time.time()\n",
    "        pl_true(el, model={X: True, Y: True, P:True, Q:True, F:True })\n",
    "        time_list.append(time.time() - time0)\n",
    "        aver_time = sum(time_list)/float(len(time_list))\n",
    "    return aver_time"
   ]
  },
  {
   "cell_type": "code",
   "execution_count": 123,
   "metadata": {
    "collapsed": true
   },
   "outputs": [],
   "source": [
    "list_lengths = [_ for _ in range(1,21)]\n",
    "time_list = random_sentence()"
   ]
  },
  {
   "cell_type": "code",
   "execution_count": 124,
   "metadata": {
    "collapsed": false
   },
   "outputs": [
    {
     "data": {
      "image/png": "[encoded data removed]",
      "text/plain": [
       "<matplotlib.figure.Figure at 0x10e4c8f90>"
      ]
     },
     "metadata": {},
     "output_type": "display_data"
    }
   ],
   "source": [
    "plt.plot(list_lengths, time_list, 'r--')\n",
    "plt.show()"
   ]
  },
  {
   "cell_type": "code",
   "execution_count": 118,
   "metadata": {
    "collapsed": false
   },
   "outputs": [
    {
     "name": "stdout",
     "output_type": "stream",
     "text": [
      "True\n",
      "False\n",
      "True\n"
     ]
    }
   ],
   "source": [
    "'''\n",
    "for 7.3 (b):\n",
    "    Exp1:pl_true(True, model={})\n",
    "    Exp2:pl_true(False, model={})\n",
    "    Exp3:pl_true(True | P , model={})\n",
    "'''\n",
    "print pl_true(True, model={})\n",
    "print pl_true(False, model={})\n",
    "print pl_true(True | P , model={})"
   ]
  },
  {
   "cell_type": "code",
   "execution_count": 9,
   "metadata": {
    "collapsed": false
   },
   "outputs": [
    {
     "name": "stdout",
     "output_type": "stream",
     "text": [
      "None\n",
      "None\n"
     ]
    }
   ],
   "source": [
    "'''\n",
    "for 7.3 (c):\n",
    "    In the example below, it will always be true, but the model will not decide true\n",
    "    Exp1:pl_true(P | ~P, model={})\n",
    "    Exp2:pl_true(~(P & ~P), model={})\n",
    "'''\n",
    "P = Symbol(P)\n",
    "print pl_true(P | ~P, model={})\n",
    "print pl_true(~(P & ~P), model={})"
   ]
  },
  {
   "cell_type": "code",
   "execution_count": 10,
   "metadata": {
    "collapsed": true
   },
   "outputs": [],
   "source": [
    "'''\n",
    "for 7.3 (d):\n",
    "    If model is not set, then set it to False\n",
    "'''\n",
    "\n",
    "def pl_true_modify(exp, model={}):\n",
    "\n",
    "    if exp in [True, False]:\n",
    "        return exp\n",
    "    \n",
    "    op, args = exp.op, exp.args\n",
    "    \n",
    "    \n",
    "    if op in SYMBOL:\n",
    "        return model.get(exp)\n",
    "    elif op == '~':\n",
    "        p = pl_true(args[0], model)\n",
    "        if p is None:\n",
    "            return False\n",
    "        else:\n",
    "            return not p\n",
    "    elif op == '|':\n",
    "        result = False\n",
    "        for arg in args:\n",
    "            p = pl_true(arg, model)\n",
    "            if p is True:\n",
    "                return True\n",
    "            if p is None:\n",
    "                result = None\n",
    "        return result\n",
    "    elif op == '&':\n",
    "        result = True\n",
    "        for arg in args:\n",
    "            p = pl_true(arg, model)\n",
    "            if p is False:\n",
    "                return False\n",
    "            if p is None:\n",
    "                result = True\n",
    "        return result\n",
    "    \n",
    "    p, q = args\n",
    "    \n",
    "    if op == '==>':\n",
    "        return pl_true(~p | q, model)\n",
    "    \n",
    "    pt = pl_true(p, model)\n",
    "    if pt is None:\n",
    "        return False\n",
    "    \n",
    "    qt = pl_true(q, model)\n",
    "    if qt is None:\n",
    "        return False\n",
    "    \n",
    "    if op == '<=>':\n",
    "        return pt == qt\n",
    "#     elif op == '^':  # xor or 'not equivalent'\n",
    "#         return pt != qt\n",
    "    else:\n",
    "        raise ValueError(\"illegal operator in logic expression\" + str(exp))"
   ]
  },
  {
   "cell_type": "code",
   "execution_count": 11,
   "metadata": {
    "collapsed": false
   },
   "outputs": [
    {
     "name": "stdout",
     "output_type": "stream",
     "text": [
      "True\n",
      "None\n",
      "None\n",
      "None\n"
     ]
    }
   ],
   "source": [
    "'''\n",
    "for 7.3 (d):\n",
    "    Same example as 7.3 (c), it will always be true, and the model will decide true\n",
    "    what can be detect after modification:\n",
    "        Exp1:pl_true_modify(P & ~P, model={})\n",
    "    what can not be detect:\n",
    "        Exp1:pl_true_modify(P | ~P, model={})\n",
    "        Exp2:pl_true_modify(~P | P, model={})\n",
    "        Exp3:pl_true_modify(~P | (P & Q) | ~P, model={})\n",
    "'''\n",
    "P = Symbol(P)\n",
    "print pl_true_modify(P & ~P, model={})\n",
    "print pl_true_modify(P | ~P, model={})\n",
    "print pl_true_modify(~P | P, model={})\n",
    "print pl_true_modify(~P | (P & Q) | P, model={})"
   ]
  },
  {
   "cell_type": "code",
   "execution_count": 12,
   "metadata": {
    "collapsed": false
   },
   "outputs": [
    {
     "data": {
      "text/plain": [
       "'\\nfor 7.3 (e):\\n    Yes.\\n    because in many cases involving the | and & operators, \\n    the value of the truth assignment can be returned without\\n    needing to evaluate both sides of the operator.\\n'"
      ]
     },
     "execution_count": 12,
     "metadata": {},
     "output_type": "execute_result"
    }
   ],
   "source": [
    "'''\n",
    "for 7.3 (e):\n",
    "    Yes.\n",
    "    Because in many cases involving the | and & operators, \n",
    "    the value of the truth assignment can be returned without\n",
    "    needing to evaluate both sides of the operator.\n",
    "'''"
   ]
  },
  {
   "cell_type": "code",
   "execution_count": null,
   "metadata": {
    "collapsed": true
   },
   "outputs": [],
   "source": []
  },
  {
   "cell_type": "code",
   "execution_count": null,
   "metadata": {
    "collapsed": true
   },
   "outputs": [],
   "source": []
  },
  {
   "cell_type": "code",
   "execution_count": null,
   "metadata": {
    "collapsed": true
   },
   "outputs": [],
   "source": []
  },
  {
   "cell_type": "code",
   "execution_count": null,
   "metadata": {
    "collapsed": true
   },
   "outputs": [],
   "source": []
  },
  {
   "cell_type": "code",
   "execution_count": null,
   "metadata": {
    "collapsed": true
   },
   "outputs": [],
   "source": []
  }
 ],
 "metadata": {
  "kernelspec": {
   "display_name": "Python 2",
   "language": "python",
   "name": "python2"
  },
  "language_info": {
   "codemirror_mode": {
    "name": "ipython",
    "version": 2
   },
   "file_extension": ".py",
   "mimetype": "text/x-python",
   "name": "python",
   "nbconvert_exporter": "python",
   "pygments_lexer": "ipython2",
   "version": "2.7.10"
  }
 },
 "nbformat": 4,
 "nbformat_minor": 1
}
