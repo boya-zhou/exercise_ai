{
 "cells": [
  {
   "cell_type": "code",
   "execution_count": 8,
   "metadata": {
    "collapsed": false
   },
   "outputs": [],
   "source": [
    "import itertools\n",
    "import copy\n",
    "import random"
   ]
  },
  {
   "cell_type": "code",
   "execution_count": 9,
   "metadata": {
    "collapsed": false
   },
   "outputs": [],
   "source": [
    "def performance_measure(envior_tuple):\n",
    "    #recieive the situation right now\n",
    "    n = 0\n",
    "    reward_for_each_square_each_time = 1\n",
    "    for elem in envior_tuple:\n",
    "        if elem ==0:\n",
    "            n += reward_for_each_square_each_time\n",
    "    return n"
   ]
  },
  {
   "cell_type": "code",
   "execution_count": 10,
   "metadata": {
    "collapsed": true
   },
   "outputs": [],
   "source": [
    "def program_action(envior_tuple,agent_tuple):\n",
    "    new_envior_tuple = copy.deepcopy(envior_tuple)\n",
    "    new_agent_tuple = copy.deepcopy(agent_tuple)\n",
    "    # if agent is in left\n",
    "    if agent_tuple[0] == 0:\n",
    "        # if left has dirt\n",
    "        if envior_tuple[0] == 1:\n",
    "            # suck\n",
    "            new_envior_tuple[0] = 0\n",
    "#             print 'agent is in left, and suck dirt here'\n",
    "        # no dirt in left, move to right\n",
    "        elif envior_tuple[0] ==0:\n",
    "            new_agent_tuple[0] = 1\n",
    "#             print 'agent is in left, and no dirt, move to right'\n",
    "            \n",
    "    # if agent is in right\n",
    "    elif agent_tuple[0] == 1:\n",
    "        # if right has dirt\n",
    "        if envior_tuple[1] == 1:\n",
    "            # suck\n",
    "            new_envior_tuple[1] = 0\n",
    "#             print 'agent is in right, and suck dirt here'\n",
    "        # no dirt in right, move to left\n",
    "        elif envior_tuple[1] ==0:\n",
    "            new_agent_tuple[0] = 0\n",
    "#             print 'agent is in right, no dirt, move to left'\n",
    "    return new_envior_tuple,new_agent_tuple"
   ]
  },
  {
   "cell_type": "code",
   "execution_count": 11,
   "metadata": {
    "collapsed": true
   },
   "outputs": [],
   "source": [
    "# def generate_new_dirt(envior_tuple):\n",
    "#     new_envior_tuple = copy.deepcopy(envior_tuple)\n",
    "#     for i,elem in enumerate(envior_tuple):\n",
    "#         if elem == 0:\n",
    "#             new_envior_tuple[i] = random.randint(0,1)\n",
    "#     return new_envior_tuple"
   ]
  },
  {
   "cell_type": "code",
   "execution_count": 12,
   "metadata": {
    "collapsed": false
   },
   "outputs": [],
   "source": [
    "def print_initil_from_list_to_real_world(envior_tuple,agent_tuple):\n",
    "    n = ''\n",
    "    m = ''\n",
    "    if (envior_tuple[0] ==1) & (envior_tuple[1] ==1):\n",
    "        n = 'left and right' \n",
    "    elif (envior_tuple[0] ==1) & (envior_tuple[1] ==0):\n",
    "        n = 'left'\n",
    "    elif (envior_tuple[0] ==0) & (envior_tuple[1] ==1):\n",
    "        n = 'right' \n",
    "    elif (envior_tuple[0] ==0) & (envior_tuple[1] ==0):\n",
    "        n = 'nowhere'\n",
    "        \n",
    "    if agent_tuple[0] == 0:\n",
    "        m = 'agent is in left'\n",
    "    else:\n",
    "        m = 'agent in in right'\n",
    "    \n",
    "    return 'dirt is in ' + n + ', and ' + m"
   ]
  },
  {
   "cell_type": "code",
   "execution_count": 15,
   "metadata": {
    "collapsed": false
   },
   "outputs": [],
   "source": [
    "def main():\n",
    "    envior_list = itertools.product([0,1],repeat=2)\n",
    "    list_all = []\n",
    "    for elem in envior_list:\n",
    "        agent_location_list = itertools.product([0,1])\n",
    "        for elem_2 in agent_location_list:\n",
    "            elem = list(elem)\n",
    "            elem_2 = list(elem_2)\n",
    "            #define total score\n",
    "            score = 0\n",
    "            # a new initial state begin\n",
    "            print '----------------------------------------------------'\n",
    "            print print_initil_from_list_to_real_world(elem,elem_2)\n",
    "            # begin from 0 to 999 step\n",
    "            for step in range(0,1000):\n",
    "                # do action based on program\n",
    "#                 print 'step ' + str(step)\n",
    "                new_envior_tuple,new_agent_tuple = program_action(elem,elem_2)\n",
    "                #update situation\n",
    "                elem = copy.deepcopy(new_envior_tuple)\n",
    "                elem_2 = copy.deepcopy(new_agent_tuple)\n",
    "                del new_envior_tuple\n",
    "                del new_agent_tuple\n",
    "                # based on the situation right now,give the performance score\n",
    "                score += performance_measure(elem)\n",
    "#                 # generate new dirt\n",
    "#                 new_envior_tuple = generate_new_dirt(elem)\n",
    "#                 elem = copy.deepcopy(new_envior_tuple)\n",
    "#                 del new_envior_tuple\n",
    "            print 'over 1000 step, the final score is ' +  str(score)\n",
    "            print '----------------------------------------------------'\n",
    "            list_all.append(score)\n",
    "    print 'The number of initial states is ' + str(len(list_all))\n",
    "    print 'The list of all score is ' + str(list_all)\n",
    "    print 'the average score is ' + str((sum(list_all)/float(len(list_all))))"
   ]
  },
  {
   "cell_type": "code",
   "execution_count": 16,
   "metadata": {
    "collapsed": false,
    "scrolled": true
   },
   "outputs": [
    {
     "name": "stdout",
     "output_type": "stream",
     "text": [
      "----------------------------------------------------\n",
      "dirt is in nowhere, and agent is in left\n",
      "over 1000 step, the final score is 2000\n",
      "----------------------------------------------------\n",
      "----------------------------------------------------\n",
      "dirt is in nowhere, and agent in in right\n",
      "over 1000 step, the final score is 2000\n",
      "----------------------------------------------------\n",
      "----------------------------------------------------\n",
      "dirt is in right, and agent is in left\n",
      "over 1000 step, the final score is 1999\n",
      "----------------------------------------------------\n",
      "----------------------------------------------------\n",
      "dirt is in nowhere, and agent in in right\n",
      "over 1000 step, the final score is 2000\n",
      "----------------------------------------------------\n",
      "----------------------------------------------------\n",
      "dirt is in left, and agent is in left\n",
      "over 1000 step, the final score is 2000\n",
      "----------------------------------------------------\n",
      "----------------------------------------------------\n",
      "dirt is in nowhere, and agent in in right\n",
      "over 1000 step, the final score is 2000\n",
      "----------------------------------------------------\n",
      "----------------------------------------------------\n",
      "dirt is in left and right, and agent is in left\n",
      "over 1000 step, the final score is 1998\n",
      "----------------------------------------------------\n",
      "----------------------------------------------------\n",
      "dirt is in nowhere, and agent in in right\n",
      "over 1000 step, the final score is 2000\n",
      "----------------------------------------------------\n",
      "The number of initial states is 8\n",
      "The list of all score is [2000, 2000, 1999, 2000, 2000, 2000, 1998, 2000]\n",
      "the average score is 1999.625\n"
     ]
    }
   ],
   "source": [
    "main()"
   ]
  },
  {
   "cell_type": "code",
   "execution_count": null,
   "metadata": {
    "collapsed": true
   },
   "outputs": [],
   "source": []
  }
 ],
 "metadata": {
  "kernelspec": {
   "display_name": "Python 2",
   "language": "python",
   "name": "python2"
  },
  "language_info": {
   "codemirror_mode": {
    "name": "ipython",
    "version": 2
   },
   "file_extension": ".py",
   "mimetype": "text/x-python",
   "name": "python",
   "nbconvert_exporter": "python",
   "pygments_lexer": "ipython2",
   "version": "2.7.9"
  }
 },
 "nbformat": 4,
 "nbformat_minor": 0
}
